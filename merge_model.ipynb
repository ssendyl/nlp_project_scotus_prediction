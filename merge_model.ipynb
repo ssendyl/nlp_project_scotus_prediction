{
 "cells": [
  {
   "cell_type": "code",
   "execution_count": 175,
   "metadata": {
    "collapsed": true
   },
   "outputs": [],
   "source": [
    "# Use regularization, L2 or L1\n",
    "# Try stemming, lemmatization\n",
    "\n",
    "# Oyez scrape on docket, get descriptions\n",
    "# Join and run new models"
   ]
  },
  {
   "cell_type": "code",
   "execution_count": 176,
   "metadata": {
    "collapsed": true
   },
   "outputs": [],
   "source": [
    "import pandas as pd"
   ]
  },
  {
   "cell_type": "code",
   "execution_count": 177,
   "metadata": {
    "collapsed": true
   },
   "outputs": [],
   "source": [
    "df1 = pd.read_csv('9479-proc.csv')\n",
    "df2 = pd.read_csv('9471-proc.csv')\n",
    "df3 = pd.read_csv('9466-proc.csv')\n",
    "df4 = pd.read_csv('9458-proc.csv')\n",
    "df5 = pd.read_csv('9457-proc.csv')\n",
    "df6 = pd.read_csv('3748-proc.csv')"
   ]
  },
  {
   "cell_type": "code",
   "execution_count": 178,
   "metadata": {
    "scrolled": true
   },
   "outputs": [
    {
     "name": "stdout",
     "output_type": "stream",
     "text": [
      "<class 'pandas.core.frame.DataFrame'>\n",
      "RangeIndex: 9497 entries, 0 to 9496\n",
      "Data columns (total 53 columns):\n",
      "Unnamed: 0                  9497 non-null int64\n",
      "html                        9497 non-null object\n",
      "US_CITE                     9497 non-null object\n",
      "docketId                    4192 non-null object\n",
      "caseIssuesId                4192 non-null object\n",
      "voteId                      4192 non-null object\n",
      "dateDecision                4192 non-null object\n",
      "decisionType                4191 non-null float64\n",
      "sctCite                     3246 non-null object\n",
      "ledCite                     4191 non-null object\n",
      "lexisCite                   4192 non-null object\n",
      "term                        4192 non-null float64\n",
      "naturalCourt                4192 non-null float64\n",
      "chief                       4192 non-null object\n",
      "docket                      3415 non-null object\n",
      "dateArgument                3333 non-null object\n",
      "dateRearg                   90 non-null object\n",
      "petitioner                  4192 non-null float64\n",
      "petitionerState             533 non-null float64\n",
      "respondent                  4192 non-null float64\n",
      "respondentState             928 non-null float64\n",
      "jurisdiction                4192 non-null float64\n",
      "adminAction                 1121 non-null float64\n",
      "adminActionState            387 non-null float64\n",
      "threeJudgeFdc               4185 non-null float64\n",
      "caseOrigin                  4068 non-null float64\n",
      "caseOriginState             1076 non-null float64\n",
      "caseSource                  4113 non-null float64\n",
      "caseSourceState             1018 non-null float64\n",
      "lcDisagreement              4190 non-null float64\n",
      "certReason                  4183 non-null float64\n",
      "lcDisposition               2263 non-null float64\n",
      "lcDispositionDirection      4036 non-null float64\n",
      "declarationUncon            4192 non-null float64\n",
      "caseDisposition             4154 non-null float64\n",
      "caseDispositionUnusual      4192 non-null float64\n",
      "partyWinning                4192 non-null float64\n",
      "precedentAlteration         4192 non-null float64\n",
      "voteUnclear                 4192 non-null float64\n",
      "issue                       4189 non-null float64\n",
      "issueArea                   4189 non-null float64\n",
      "decisionDirection           4192 non-null float64\n",
      "decisionDirectionDissent    4192 non-null float64\n",
      "authorityDecision1          4190 non-null float64\n",
      "authorityDecision2          631 non-null float64\n",
      "lawType                     4030 non-null float64\n",
      "lawSupp                     4030 non-null float64\n",
      "lawMinor                    718 non-null object\n",
      "majOpinWriter               3919 non-null float64\n",
      "majOpinAssigner             4159 non-null float64\n",
      "splitVote                   4192 non-null float64\n",
      "majVotes                    4192 non-null float64\n",
      "minVotes                    4192 non-null float64\n",
      "dtypes: float64(38), int64(1), object(14)\n",
      "memory usage: 3.8+ MB\n"
     ]
    }
   ],
   "source": [
    "df1.info()"
   ]
  },
  {
   "cell_type": "code",
   "execution_count": 179,
   "metadata": {
    "scrolled": true
   },
   "outputs": [
    {
     "data": {
      "text/html": [
       "<div>\n",
       "<style>\n",
       "    .dataframe thead tr:only-child th {\n",
       "        text-align: right;\n",
       "    }\n",
       "\n",
       "    .dataframe thead th {\n",
       "        text-align: left;\n",
       "    }\n",
       "\n",
       "    .dataframe tbody tr th {\n",
       "        vertical-align: top;\n",
       "    }\n",
       "</style>\n",
       "<table border=\"1\" class=\"dataframe\">\n",
       "  <thead>\n",
       "    <tr style=\"text-align: right;\">\n",
       "      <th></th>\n",
       "      <th>Unnamed: 0</th>\n",
       "      <th>html</th>\n",
       "      <th>US_CITE</th>\n",
       "      <th>docketId</th>\n",
       "      <th>caseIssuesId</th>\n",
       "      <th>voteId</th>\n",
       "      <th>dateDecision</th>\n",
       "      <th>decisionType</th>\n",
       "      <th>sctCite</th>\n",
       "      <th>ledCite</th>\n",
       "      <th>...</th>\n",
       "      <th>authorityDecision1</th>\n",
       "      <th>authorityDecision2</th>\n",
       "      <th>lawType</th>\n",
       "      <th>lawSupp</th>\n",
       "      <th>lawMinor</th>\n",
       "      <th>majOpinWriter</th>\n",
       "      <th>majOpinAssigner</th>\n",
       "      <th>splitVote</th>\n",
       "      <th>majVotes</th>\n",
       "      <th>minVotes</th>\n",
       "    </tr>\n",
       "  </thead>\n",
       "  <tbody>\n",
       "    <tr>\n",
       "      <th>9477</th>\n",
       "      <td>9477</td>\n",
       "      <td>us \\n sct \\n led \\nnew jersey zinc covtrotter...</td>\n",
       "      <td>108 U.S. 564</td>\n",
       "      <td>1882-254-01</td>\n",
       "      <td>1882-254-01-01</td>\n",
       "      <td>1882-254-01-01-01</td>\n",
       "      <td>5/7/1883</td>\n",
       "      <td>1.0</td>\n",
       "      <td>2 S. Ct. 875</td>\n",
       "      <td>27 L. Ed. 828</td>\n",
       "      <td>...</td>\n",
       "      <td>3.0</td>\n",
       "      <td>NaN</td>\n",
       "      <td>9.0</td>\n",
       "      <td>900.0</td>\n",
       "      <td>NaN</td>\n",
       "      <td>44.0</td>\n",
       "      <td>44.0</td>\n",
       "      <td>1.0</td>\n",
       "      <td>9.0</td>\n",
       "      <td>0.0</td>\n",
       "    </tr>\n",
       "    <tr>\n",
       "      <th>9478</th>\n",
       "      <td>9478</td>\n",
       "      <td>us \\ndavis aka swansonvunited states\\nno \\nsu...</td>\n",
       "      <td>539 U.S. 937</td>\n",
       "      <td>NaN</td>\n",
       "      <td>NaN</td>\n",
       "      <td>NaN</td>\n",
       "      <td>NaN</td>\n",
       "      <td>NaN</td>\n",
       "      <td>NaN</td>\n",
       "      <td>NaN</td>\n",
       "      <td>...</td>\n",
       "      <td>NaN</td>\n",
       "      <td>NaN</td>\n",
       "      <td>NaN</td>\n",
       "      <td>NaN</td>\n",
       "      <td>NaN</td>\n",
       "      <td>NaN</td>\n",
       "      <td>NaN</td>\n",
       "      <td>NaN</td>\n",
       "      <td>NaN</td>\n",
       "      <td>NaN</td>\n",
       "    </tr>\n",
       "    <tr>\n",
       "      <th>9479</th>\n",
       "      <td>9479</td>\n",
       "      <td>us \\njonesvsingletary secretary florida depar...</td>\n",
       "      <td>510 U.S. 833</td>\n",
       "      <td>NaN</td>\n",
       "      <td>NaN</td>\n",
       "      <td>NaN</td>\n",
       "      <td>NaN</td>\n",
       "      <td>NaN</td>\n",
       "      <td>NaN</td>\n",
       "      <td>NaN</td>\n",
       "      <td>...</td>\n",
       "      <td>NaN</td>\n",
       "      <td>NaN</td>\n",
       "      <td>NaN</td>\n",
       "      <td>NaN</td>\n",
       "      <td>NaN</td>\n",
       "      <td>NaN</td>\n",
       "      <td>NaN</td>\n",
       "      <td>NaN</td>\n",
       "      <td>NaN</td>\n",
       "      <td>NaN</td>\n",
       "    </tr>\n",
       "    <tr>\n",
       "      <th>9480</th>\n",
       "      <td>9480</td>\n",
       "      <td>us \\nkerrvbey\\nno \\nsupreme court of united s...</td>\n",
       "      <td>543 U.S. 1007</td>\n",
       "      <td>NaN</td>\n",
       "      <td>NaN</td>\n",
       "      <td>NaN</td>\n",
       "      <td>NaN</td>\n",
       "      <td>NaN</td>\n",
       "      <td>NaN</td>\n",
       "      <td>NaN</td>\n",
       "      <td>...</td>\n",
       "      <td>NaN</td>\n",
       "      <td>NaN</td>\n",
       "      <td>NaN</td>\n",
       "      <td>NaN</td>\n",
       "      <td>NaN</td>\n",
       "      <td>NaN</td>\n",
       "      <td>NaN</td>\n",
       "      <td>NaN</td>\n",
       "      <td>NaN</td>\n",
       "      <td>NaN</td>\n",
       "    </tr>\n",
       "    <tr>\n",
       "      <th>9481</th>\n",
       "      <td>9481</td>\n",
       "      <td>us \\ndevallevunited states\\nno \\nsupreme cour...</td>\n",
       "      <td>543 U.S. 898</td>\n",
       "      <td>NaN</td>\n",
       "      <td>NaN</td>\n",
       "      <td>NaN</td>\n",
       "      <td>NaN</td>\n",
       "      <td>NaN</td>\n",
       "      <td>NaN</td>\n",
       "      <td>NaN</td>\n",
       "      <td>...</td>\n",
       "      <td>NaN</td>\n",
       "      <td>NaN</td>\n",
       "      <td>NaN</td>\n",
       "      <td>NaN</td>\n",
       "      <td>NaN</td>\n",
       "      <td>NaN</td>\n",
       "      <td>NaN</td>\n",
       "      <td>NaN</td>\n",
       "      <td>NaN</td>\n",
       "      <td>NaN</td>\n",
       "    </tr>\n",
       "    <tr>\n",
       "      <th>9482</th>\n",
       "      <td>9482</td>\n",
       "      <td>us \\nhoganvcalifornia\\nno \\nsupreme court of ...</td>\n",
       "      <td>540 U.S. 884</td>\n",
       "      <td>NaN</td>\n",
       "      <td>NaN</td>\n",
       "      <td>NaN</td>\n",
       "      <td>NaN</td>\n",
       "      <td>NaN</td>\n",
       "      <td>NaN</td>\n",
       "      <td>NaN</td>\n",
       "      <td>...</td>\n",
       "      <td>NaN</td>\n",
       "      <td>NaN</td>\n",
       "      <td>NaN</td>\n",
       "      <td>NaN</td>\n",
       "      <td>NaN</td>\n",
       "      <td>NaN</td>\n",
       "      <td>NaN</td>\n",
       "      <td>NaN</td>\n",
       "      <td>NaN</td>\n",
       "      <td>NaN</td>\n",
       "    </tr>\n",
       "    <tr>\n",
       "      <th>9483</th>\n",
       "      <td>9483</td>\n",
       "      <td>us \\npittmanvnorth carolina\\nno \\nsupreme cou...</td>\n",
       "      <td>537 U.S. 871</td>\n",
       "      <td>NaN</td>\n",
       "      <td>NaN</td>\n",
       "      <td>NaN</td>\n",
       "      <td>NaN</td>\n",
       "      <td>NaN</td>\n",
       "      <td>NaN</td>\n",
       "      <td>NaN</td>\n",
       "      <td>...</td>\n",
       "      <td>NaN</td>\n",
       "      <td>NaN</td>\n",
       "      <td>NaN</td>\n",
       "      <td>NaN</td>\n",
       "      <td>NaN</td>\n",
       "      <td>NaN</td>\n",
       "      <td>NaN</td>\n",
       "      <td>NaN</td>\n",
       "      <td>NaN</td>\n",
       "      <td>NaN</td>\n",
       "    </tr>\n",
       "    <tr>\n",
       "      <th>9484</th>\n",
       "      <td>9484</td>\n",
       "      <td>us \\nin re burke\\nno \\nsupreme court of unite...</td>\n",
       "      <td>510 U.S. 1108</td>\n",
       "      <td>NaN</td>\n",
       "      <td>NaN</td>\n",
       "      <td>NaN</td>\n",
       "      <td>NaN</td>\n",
       "      <td>NaN</td>\n",
       "      <td>NaN</td>\n",
       "      <td>NaN</td>\n",
       "      <td>...</td>\n",
       "      <td>NaN</td>\n",
       "      <td>NaN</td>\n",
       "      <td>NaN</td>\n",
       "      <td>NaN</td>\n",
       "      <td>NaN</td>\n",
       "      <td>NaN</td>\n",
       "      <td>NaN</td>\n",
       "      <td>NaN</td>\n",
       "      <td>NaN</td>\n",
       "      <td>NaN</td>\n",
       "    </tr>\n",
       "    <tr>\n",
       "      <th>9485</th>\n",
       "      <td>9485</td>\n",
       "      <td>us \\n sct \\n led \\nopry et alvunited states\\n...</td>\n",
       "      <td>249 U.S. 323</td>\n",
       "      <td>1918-143-01</td>\n",
       "      <td>1918-143-01-01</td>\n",
       "      <td>1918-143-01-01-01</td>\n",
       "      <td>3/31/19</td>\n",
       "      <td>1.0</td>\n",
       "      <td>39 S. Ct. 305</td>\n",
       "      <td>63 L. Ed. 626</td>\n",
       "      <td>...</td>\n",
       "      <td>3.0</td>\n",
       "      <td>NaN</td>\n",
       "      <td>9.0</td>\n",
       "      <td>900.0</td>\n",
       "      <td>NaN</td>\n",
       "      <td>58.0</td>\n",
       "      <td>56.0</td>\n",
       "      <td>1.0</td>\n",
       "      <td>9.0</td>\n",
       "      <td>0.0</td>\n",
       "    </tr>\n",
       "    <tr>\n",
       "      <th>9486</th>\n",
       "      <td>9486</td>\n",
       "      <td>us \\n sct \\n led \\nlewis publishing company a...</td>\n",
       "      <td>228 U.S. 610</td>\n",
       "      <td>1912-195-01</td>\n",
       "      <td>1912-195-01-01</td>\n",
       "      <td>1912-195-01-01-01</td>\n",
       "      <td>5/12/13</td>\n",
       "      <td>1.0</td>\n",
       "      <td>33 S. Ct. 599</td>\n",
       "      <td>57 L. Ed. 989</td>\n",
       "      <td>...</td>\n",
       "      <td>3.0</td>\n",
       "      <td>7.0</td>\n",
       "      <td>9.0</td>\n",
       "      <td>900.0</td>\n",
       "      <td>NaN</td>\n",
       "      <td>66.0</td>\n",
       "      <td>56.0</td>\n",
       "      <td>1.0</td>\n",
       "      <td>9.0</td>\n",
       "      <td>0.0</td>\n",
       "    </tr>\n",
       "    <tr>\n",
       "      <th>9487</th>\n",
       "      <td>9487</td>\n",
       "      <td>us \\ncrawfordvwashington\\nno \\nsupreme court ...</td>\n",
       "      <td>539 U.S. 982</td>\n",
       "      <td>NaN</td>\n",
       "      <td>NaN</td>\n",
       "      <td>NaN</td>\n",
       "      <td>NaN</td>\n",
       "      <td>NaN</td>\n",
       "      <td>NaN</td>\n",
       "      <td>NaN</td>\n",
       "      <td>...</td>\n",
       "      <td>NaN</td>\n",
       "      <td>NaN</td>\n",
       "      <td>NaN</td>\n",
       "      <td>NaN</td>\n",
       "      <td>NaN</td>\n",
       "      <td>NaN</td>\n",
       "      <td>NaN</td>\n",
       "      <td>NaN</td>\n",
       "      <td>NaN</td>\n",
       "      <td>NaN</td>\n",
       "    </tr>\n",
       "    <tr>\n",
       "      <th>9488</th>\n",
       "      <td>9488</td>\n",
       "      <td>us \\n sct \\n led \\nunited statesvphelps and a...</td>\n",
       "      <td>107 U.S. 320</td>\n",
       "      <td>1882-162-01</td>\n",
       "      <td>1882-162-01-01</td>\n",
       "      <td>1882-162-01-01-01</td>\n",
       "      <td>3/26/1883</td>\n",
       "      <td>1.0</td>\n",
       "      <td>2 S. Ct. 389</td>\n",
       "      <td>27 L. Ed. 505</td>\n",
       "      <td>...</td>\n",
       "      <td>4.0</td>\n",
       "      <td>NaN</td>\n",
       "      <td>6.0</td>\n",
       "      <td>600.0</td>\n",
       "      <td>tax law</td>\n",
       "      <td>44.0</td>\n",
       "      <td>44.0</td>\n",
       "      <td>1.0</td>\n",
       "      <td>9.0</td>\n",
       "      <td>0.0</td>\n",
       "    </tr>\n",
       "    <tr>\n",
       "      <th>9489</th>\n",
       "      <td>9489</td>\n",
       "      <td>us \\n sct \\n led \\njohn h betts doing busines...</td>\n",
       "      <td>291 U.S. 652</td>\n",
       "      <td>NaN</td>\n",
       "      <td>NaN</td>\n",
       "      <td>NaN</td>\n",
       "      <td>NaN</td>\n",
       "      <td>NaN</td>\n",
       "      <td>NaN</td>\n",
       "      <td>NaN</td>\n",
       "      <td>...</td>\n",
       "      <td>NaN</td>\n",
       "      <td>NaN</td>\n",
       "      <td>NaN</td>\n",
       "      <td>NaN</td>\n",
       "      <td>NaN</td>\n",
       "      <td>NaN</td>\n",
       "      <td>NaN</td>\n",
       "      <td>NaN</td>\n",
       "      <td>NaN</td>\n",
       "      <td>NaN</td>\n",
       "    </tr>\n",
       "    <tr>\n",
       "      <th>9490</th>\n",
       "      <td>9490</td>\n",
       "      <td>us \\n how \\n led \\nthe united states ex relat...</td>\n",
       "      <td>63 U.S. 174</td>\n",
       "      <td>1859-038-01</td>\n",
       "      <td>1859-038-01-01</td>\n",
       "      <td>1859-038-01-01-01</td>\n",
       "      <td>2/20/1860</td>\n",
       "      <td>1.0</td>\n",
       "      <td>NaN</td>\n",
       "      <td>16 L. Ed. 304</td>\n",
       "      <td>...</td>\n",
       "      <td>4.0</td>\n",
       "      <td>NaN</td>\n",
       "      <td>6.0</td>\n",
       "      <td>600.0</td>\n",
       "      <td>Judiciary Act of 1789, sec.13</td>\n",
       "      <td>22.0</td>\n",
       "      <td>25.0</td>\n",
       "      <td>1.0</td>\n",
       "      <td>7.0</td>\n",
       "      <td>2.0</td>\n",
       "    </tr>\n",
       "    <tr>\n",
       "      <th>9491</th>\n",
       "      <td>9491</td>\n",
       "      <td>us \\n sct \\n ledd \\nunited states petitionerv...</td>\n",
       "      <td>469 U.S. 45</td>\n",
       "      <td>1984-006-01</td>\n",
       "      <td>1984-006-01-01</td>\n",
       "      <td>1984-006-01-01-01</td>\n",
       "      <td>12/10/84</td>\n",
       "      <td>1.0</td>\n",
       "      <td>105 S. Ct. 465</td>\n",
       "      <td>83 L. Ed. 2d 450</td>\n",
       "      <td>...</td>\n",
       "      <td>4.0</td>\n",
       "      <td>NaN</td>\n",
       "      <td>4.0</td>\n",
       "      <td>402.0</td>\n",
       "      <td>NaN</td>\n",
       "      <td>102.0</td>\n",
       "      <td>99.0</td>\n",
       "      <td>1.0</td>\n",
       "      <td>9.0</td>\n",
       "      <td>0.0</td>\n",
       "    </tr>\n",
       "    <tr>\n",
       "      <th>9492</th>\n",
       "      <td>9492</td>\n",
       "      <td>us \\n sct \\n led \\nfred c keeney individually...</td>\n",
       "      <td>222 U.S. 525</td>\n",
       "      <td>1911-121-01</td>\n",
       "      <td>1911-121-01-01</td>\n",
       "      <td>1911-121-01-01-01</td>\n",
       "      <td>1/9/12</td>\n",
       "      <td>1.0</td>\n",
       "      <td>32 S. Ct. 105</td>\n",
       "      <td>56 L. Ed. 299</td>\n",
       "      <td>...</td>\n",
       "      <td>4.0</td>\n",
       "      <td>2.0</td>\n",
       "      <td>2.0</td>\n",
       "      <td>230.0</td>\n",
       "      <td>NaN</td>\n",
       "      <td>65.0</td>\n",
       "      <td>56.0</td>\n",
       "      <td>1.0</td>\n",
       "      <td>7.0</td>\n",
       "      <td>0.0</td>\n",
       "    </tr>\n",
       "    <tr>\n",
       "      <th>9493</th>\n",
       "      <td>9493</td>\n",
       "      <td>us \\n led \\n wall \\ncity of paris\\ndecember t...</td>\n",
       "      <td>76 U.S. 634</td>\n",
       "      <td>1869-115-01</td>\n",
       "      <td>1869-115-01-01</td>\n",
       "      <td>1869-115-01-01-01</td>\n",
       "      <td>4/11/1870</td>\n",
       "      <td>1.0</td>\n",
       "      <td>NaN</td>\n",
       "      <td>19 L. Ed. 751</td>\n",
       "      <td>...</td>\n",
       "      <td>7.0</td>\n",
       "      <td>NaN</td>\n",
       "      <td>9.0</td>\n",
       "      <td>900.0</td>\n",
       "      <td>NaN</td>\n",
       "      <td>36.0</td>\n",
       "      <td>40.0</td>\n",
       "      <td>1.0</td>\n",
       "      <td>9.0</td>\n",
       "      <td>0.0</td>\n",
       "    </tr>\n",
       "    <tr>\n",
       "      <th>9494</th>\n",
       "      <td>9494</td>\n",
       "      <td>us \\ngreenvfrank secretary wisconsin departme...</td>\n",
       "      <td>543 U.S. 1074</td>\n",
       "      <td>NaN</td>\n",
       "      <td>NaN</td>\n",
       "      <td>NaN</td>\n",
       "      <td>NaN</td>\n",
       "      <td>NaN</td>\n",
       "      <td>NaN</td>\n",
       "      <td>NaN</td>\n",
       "      <td>...</td>\n",
       "      <td>NaN</td>\n",
       "      <td>NaN</td>\n",
       "      <td>NaN</td>\n",
       "      <td>NaN</td>\n",
       "      <td>NaN</td>\n",
       "      <td>NaN</td>\n",
       "      <td>NaN</td>\n",
       "      <td>NaN</td>\n",
       "      <td>NaN</td>\n",
       "      <td>NaN</td>\n",
       "    </tr>\n",
       "    <tr>\n",
       "      <th>9495</th>\n",
       "      <td>9495</td>\n",
       "      <td>us \\nthomasvgarrett fluid systems inc et al\\n...</td>\n",
       "      <td>510 U.S. 1077</td>\n",
       "      <td>NaN</td>\n",
       "      <td>NaN</td>\n",
       "      <td>NaN</td>\n",
       "      <td>NaN</td>\n",
       "      <td>NaN</td>\n",
       "      <td>NaN</td>\n",
       "      <td>NaN</td>\n",
       "      <td>...</td>\n",
       "      <td>NaN</td>\n",
       "      <td>NaN</td>\n",
       "      <td>NaN</td>\n",
       "      <td>NaN</td>\n",
       "      <td>NaN</td>\n",
       "      <td>NaN</td>\n",
       "      <td>NaN</td>\n",
       "      <td>NaN</td>\n",
       "      <td>NaN</td>\n",
       "      <td>NaN</td>\n",
       "    </tr>\n",
       "    <tr>\n",
       "      <th>9496</th>\n",
       "      <td>9496</td>\n",
       "      <td>us \\nblankenshipvunited states\\nno \\nsupreme ...</td>\n",
       "      <td>510 U.S. 887</td>\n",
       "      <td>NaN</td>\n",
       "      <td>NaN</td>\n",
       "      <td>NaN</td>\n",
       "      <td>NaN</td>\n",
       "      <td>NaN</td>\n",
       "      <td>NaN</td>\n",
       "      <td>NaN</td>\n",
       "      <td>...</td>\n",
       "      <td>NaN</td>\n",
       "      <td>NaN</td>\n",
       "      <td>NaN</td>\n",
       "      <td>NaN</td>\n",
       "      <td>NaN</td>\n",
       "      <td>NaN</td>\n",
       "      <td>NaN</td>\n",
       "      <td>NaN</td>\n",
       "      <td>NaN</td>\n",
       "      <td>NaN</td>\n",
       "    </tr>\n",
       "  </tbody>\n",
       "</table>\n",
       "<p>20 rows × 53 columns</p>\n",
       "</div>"
      ],
      "text/plain": [
       "      Unnamed: 0                                               html  \\\n",
       "9477        9477   us \\n sct \\n led \\nnew jersey zinc covtrotter...   \n",
       "9478        9478   us \\ndavis aka swansonvunited states\\nno \\nsu...   \n",
       "9479        9479   us \\njonesvsingletary secretary florida depar...   \n",
       "9480        9480   us \\nkerrvbey\\nno \\nsupreme court of united s...   \n",
       "9481        9481   us \\ndevallevunited states\\nno \\nsupreme cour...   \n",
       "9482        9482   us \\nhoganvcalifornia\\nno \\nsupreme court of ...   \n",
       "9483        9483   us \\npittmanvnorth carolina\\nno \\nsupreme cou...   \n",
       "9484        9484   us \\nin re burke\\nno \\nsupreme court of unite...   \n",
       "9485        9485   us \\n sct \\n led \\nopry et alvunited states\\n...   \n",
       "9486        9486   us \\n sct \\n led \\nlewis publishing company a...   \n",
       "9487        9487   us \\ncrawfordvwashington\\nno \\nsupreme court ...   \n",
       "9488        9488   us \\n sct \\n led \\nunited statesvphelps and a...   \n",
       "9489        9489   us \\n sct \\n led \\njohn h betts doing busines...   \n",
       "9490        9490   us \\n how \\n led \\nthe united states ex relat...   \n",
       "9491        9491   us \\n sct \\n ledd \\nunited states petitionerv...   \n",
       "9492        9492   us \\n sct \\n led \\nfred c keeney individually...   \n",
       "9493        9493   us \\n led \\n wall \\ncity of paris\\ndecember t...   \n",
       "9494        9494   us \\ngreenvfrank secretary wisconsin departme...   \n",
       "9495        9495   us \\nthomasvgarrett fluid systems inc et al\\n...   \n",
       "9496        9496   us \\nblankenshipvunited states\\nno \\nsupreme ...   \n",
       "\n",
       "            US_CITE     docketId    caseIssuesId             voteId  \\\n",
       "9477   108 U.S. 564  1882-254-01  1882-254-01-01  1882-254-01-01-01   \n",
       "9478   539 U.S. 937          NaN             NaN                NaN   \n",
       "9479   510 U.S. 833          NaN             NaN                NaN   \n",
       "9480  543 U.S. 1007          NaN             NaN                NaN   \n",
       "9481   543 U.S. 898          NaN             NaN                NaN   \n",
       "9482   540 U.S. 884          NaN             NaN                NaN   \n",
       "9483   537 U.S. 871          NaN             NaN                NaN   \n",
       "9484  510 U.S. 1108          NaN             NaN                NaN   \n",
       "9485   249 U.S. 323  1918-143-01  1918-143-01-01  1918-143-01-01-01   \n",
       "9486   228 U.S. 610  1912-195-01  1912-195-01-01  1912-195-01-01-01   \n",
       "9487   539 U.S. 982          NaN             NaN                NaN   \n",
       "9488   107 U.S. 320  1882-162-01  1882-162-01-01  1882-162-01-01-01   \n",
       "9489   291 U.S. 652          NaN             NaN                NaN   \n",
       "9490    63 U.S. 174  1859-038-01  1859-038-01-01  1859-038-01-01-01   \n",
       "9491    469 U.S. 45  1984-006-01  1984-006-01-01  1984-006-01-01-01   \n",
       "9492   222 U.S. 525  1911-121-01  1911-121-01-01  1911-121-01-01-01   \n",
       "9493    76 U.S. 634  1869-115-01  1869-115-01-01  1869-115-01-01-01   \n",
       "9494  543 U.S. 1074          NaN             NaN                NaN   \n",
       "9495  510 U.S. 1077          NaN             NaN                NaN   \n",
       "9496   510 U.S. 887          NaN             NaN                NaN   \n",
       "\n",
       "     dateDecision  decisionType         sctCite           ledCite    ...     \\\n",
       "9477     5/7/1883           1.0    2 S. Ct. 875     27 L. Ed. 828    ...      \n",
       "9478          NaN           NaN             NaN               NaN    ...      \n",
       "9479          NaN           NaN             NaN               NaN    ...      \n",
       "9480          NaN           NaN             NaN               NaN    ...      \n",
       "9481          NaN           NaN             NaN               NaN    ...      \n",
       "9482          NaN           NaN             NaN               NaN    ...      \n",
       "9483          NaN           NaN             NaN               NaN    ...      \n",
       "9484          NaN           NaN             NaN               NaN    ...      \n",
       "9485      3/31/19           1.0   39 S. Ct. 305     63 L. Ed. 626    ...      \n",
       "9486      5/12/13           1.0   33 S. Ct. 599     57 L. Ed. 989    ...      \n",
       "9487          NaN           NaN             NaN               NaN    ...      \n",
       "9488    3/26/1883           1.0    2 S. Ct. 389     27 L. Ed. 505    ...      \n",
       "9489          NaN           NaN             NaN               NaN    ...      \n",
       "9490    2/20/1860           1.0             NaN     16 L. Ed. 304    ...      \n",
       "9491     12/10/84           1.0  105 S. Ct. 465  83 L. Ed. 2d 450    ...      \n",
       "9492       1/9/12           1.0   32 S. Ct. 105     56 L. Ed. 299    ...      \n",
       "9493    4/11/1870           1.0             NaN     19 L. Ed. 751    ...      \n",
       "9494          NaN           NaN             NaN               NaN    ...      \n",
       "9495          NaN           NaN             NaN               NaN    ...      \n",
       "9496          NaN           NaN             NaN               NaN    ...      \n",
       "\n",
       "     authorityDecision1  authorityDecision2  lawType lawSupp  \\\n",
       "9477                3.0                 NaN      9.0   900.0   \n",
       "9478                NaN                 NaN      NaN     NaN   \n",
       "9479                NaN                 NaN      NaN     NaN   \n",
       "9480                NaN                 NaN      NaN     NaN   \n",
       "9481                NaN                 NaN      NaN     NaN   \n",
       "9482                NaN                 NaN      NaN     NaN   \n",
       "9483                NaN                 NaN      NaN     NaN   \n",
       "9484                NaN                 NaN      NaN     NaN   \n",
       "9485                3.0                 NaN      9.0   900.0   \n",
       "9486                3.0                 7.0      9.0   900.0   \n",
       "9487                NaN                 NaN      NaN     NaN   \n",
       "9488                4.0                 NaN      6.0   600.0   \n",
       "9489                NaN                 NaN      NaN     NaN   \n",
       "9490                4.0                 NaN      6.0   600.0   \n",
       "9491                4.0                 NaN      4.0   402.0   \n",
       "9492                4.0                 2.0      2.0   230.0   \n",
       "9493                7.0                 NaN      9.0   900.0   \n",
       "9494                NaN                 NaN      NaN     NaN   \n",
       "9495                NaN                 NaN      NaN     NaN   \n",
       "9496                NaN                 NaN      NaN     NaN   \n",
       "\n",
       "                           lawMinor majOpinWriter majOpinAssigner  splitVote  \\\n",
       "9477                            NaN          44.0            44.0        1.0   \n",
       "9478                            NaN           NaN             NaN        NaN   \n",
       "9479                            NaN           NaN             NaN        NaN   \n",
       "9480                            NaN           NaN             NaN        NaN   \n",
       "9481                            NaN           NaN             NaN        NaN   \n",
       "9482                            NaN           NaN             NaN        NaN   \n",
       "9483                            NaN           NaN             NaN        NaN   \n",
       "9484                            NaN           NaN             NaN        NaN   \n",
       "9485                            NaN          58.0            56.0        1.0   \n",
       "9486                            NaN          66.0            56.0        1.0   \n",
       "9487                            NaN           NaN             NaN        NaN   \n",
       "9488                        tax law          44.0            44.0        1.0   \n",
       "9489                            NaN           NaN             NaN        NaN   \n",
       "9490  Judiciary Act of 1789, sec.13          22.0            25.0        1.0   \n",
       "9491                            NaN         102.0            99.0        1.0   \n",
       "9492                            NaN          65.0            56.0        1.0   \n",
       "9493                            NaN          36.0            40.0        1.0   \n",
       "9494                            NaN           NaN             NaN        NaN   \n",
       "9495                            NaN           NaN             NaN        NaN   \n",
       "9496                            NaN           NaN             NaN        NaN   \n",
       "\n",
       "      majVotes  minVotes  \n",
       "9477       9.0       0.0  \n",
       "9478       NaN       NaN  \n",
       "9479       NaN       NaN  \n",
       "9480       NaN       NaN  \n",
       "9481       NaN       NaN  \n",
       "9482       NaN       NaN  \n",
       "9483       NaN       NaN  \n",
       "9484       NaN       NaN  \n",
       "9485       9.0       0.0  \n",
       "9486       9.0       0.0  \n",
       "9487       NaN       NaN  \n",
       "9488       9.0       0.0  \n",
       "9489       NaN       NaN  \n",
       "9490       7.0       2.0  \n",
       "9491       9.0       0.0  \n",
       "9492       7.0       0.0  \n",
       "9493       9.0       0.0  \n",
       "9494       NaN       NaN  \n",
       "9495       NaN       NaN  \n",
       "9496       NaN       NaN  \n",
       "\n",
       "[20 rows x 53 columns]"
      ]
     },
     "execution_count": 179,
     "metadata": {},
     "output_type": "execute_result"
    }
   ],
   "source": [
    "df1.tail(20)"
   ]
  },
  {
   "cell_type": "code",
   "execution_count": 149,
   "metadata": {},
   "outputs": [
    {
     "data": {
      "text/html": [
       "<div>\n",
       "<style>\n",
       "    .dataframe thead tr:only-child th {\n",
       "        text-align: right;\n",
       "    }\n",
       "\n",
       "    .dataframe thead th {\n",
       "        text-align: left;\n",
       "    }\n",
       "\n",
       "    .dataframe tbody tr th {\n",
       "        vertical-align: top;\n",
       "    }\n",
       "</style>\n",
       "<table border=\"1\" class=\"dataframe\">\n",
       "  <thead>\n",
       "    <tr style=\"text-align: right;\">\n",
       "      <th></th>\n",
       "      <th>Unnamed: 0</th>\n",
       "      <th>html</th>\n",
       "      <th>US_CITE</th>\n",
       "      <th>majVotes</th>\n",
       "      <th>minVotes</th>\n",
       "      <th>decisionDirection</th>\n",
       "    </tr>\n",
       "  </thead>\n",
       "  <tbody>\n",
       "    <tr>\n",
       "      <th>7356</th>\n",
       "      <td>7356</td>\n",
       "      <td>us \\nburnsidevflorida\\nno \\nsupreme court of ...</td>\n",
       "      <td>540 U.S. 884</td>\n",
       "      <td>NaN</td>\n",
       "      <td>NaN</td>\n",
       "      <td>NaN</td>\n",
       "    </tr>\n",
       "    <tr>\n",
       "      <th>8864</th>\n",
       "      <td>8864</td>\n",
       "      <td>us \\nharveyvpratt warden\\nno \\nsupreme court ...</td>\n",
       "      <td>540 U.S. 884</td>\n",
       "      <td>NaN</td>\n",
       "      <td>NaN</td>\n",
       "      <td>NaN</td>\n",
       "    </tr>\n",
       "    <tr>\n",
       "      <th>9482</th>\n",
       "      <td>9482</td>\n",
       "      <td>us \\nhoganvcalifornia\\nno \\nsupreme court of ...</td>\n",
       "      <td>540 U.S. 884</td>\n",
       "      <td>NaN</td>\n",
       "      <td>NaN</td>\n",
       "      <td>NaN</td>\n",
       "    </tr>\n",
       "  </tbody>\n",
       "</table>\n",
       "</div>"
      ],
      "text/plain": [
       "      Unnamed: 0                                               html  \\\n",
       "7356        7356   us \\nburnsidevflorida\\nno \\nsupreme court of ...   \n",
       "8864        8864   us \\nharveyvpratt warden\\nno \\nsupreme court ...   \n",
       "9482        9482   us \\nhoganvcalifornia\\nno \\nsupreme court of ...   \n",
       "\n",
       "           US_CITE  majVotes  minVotes  decisionDirection  \n",
       "7356  540 U.S. 884       NaN       NaN                NaN  \n",
       "8864  540 U.S. 884       NaN       NaN                NaN  \n",
       "9482  540 U.S. 884       NaN       NaN                NaN  "
      ]
     },
     "execution_count": 149,
     "metadata": {},
     "output_type": "execute_result"
    }
   ],
   "source": [
    "df1[df1['US_CITE'] == '540 U.S. 884']"
   ]
  },
  {
   "cell_type": "code",
   "execution_count": 150,
   "metadata": {
    "collapsed": true,
    "scrolled": true
   },
   "outputs": [],
   "source": [
    "df = df1.append([df2, df3, df4, df5, df6], ignore_index = True)"
   ]
  },
  {
   "cell_type": "code",
   "execution_count": 151,
   "metadata": {
    "scrolled": true
   },
   "outputs": [
    {
     "name": "stdout",
     "output_type": "stream",
     "text": [
      "<class 'pandas.core.frame.DataFrame'>\n",
      "RangeIndex: 51147 entries, 0 to 51146\n",
      "Data columns (total 6 columns):\n",
      "Unnamed: 0           51147 non-null int64\n",
      "html                 51147 non-null object\n",
      "US_CITE              51147 non-null object\n",
      "majVotes             22693 non-null float64\n",
      "minVotes             22693 non-null float64\n",
      "decisionDirection    22693 non-null float64\n",
      "dtypes: float64(3), int64(1), object(2)\n",
      "memory usage: 2.3+ MB\n"
     ]
    }
   ],
   "source": [
    "df.info()"
   ]
  },
  {
   "cell_type": "code",
   "execution_count": 152,
   "metadata": {
    "collapsed": true
   },
   "outputs": [],
   "source": [
    "final_df = df[pd.notnull(df['decisionDirection'])]"
   ]
  },
  {
   "cell_type": "code",
   "execution_count": 153,
   "metadata": {},
   "outputs": [
    {
     "name": "stdout",
     "output_type": "stream",
     "text": [
      "<class 'pandas.core.frame.DataFrame'>\n",
      "Int64Index: 22693 entries, 2 to 51145\n",
      "Data columns (total 6 columns):\n",
      "Unnamed: 0           22693 non-null int64\n",
      "html                 22693 non-null object\n",
      "US_CITE              22693 non-null object\n",
      "majVotes             22693 non-null float64\n",
      "minVotes             22693 non-null float64\n",
      "decisionDirection    22693 non-null float64\n",
      "dtypes: float64(3), int64(1), object(2)\n",
      "memory usage: 1.2+ MB\n"
     ]
    }
   ],
   "source": [
    "final_df.info()"
   ]
  },
  {
   "cell_type": "code",
   "execution_count": 154,
   "metadata": {},
   "outputs": [
    {
     "data": {
      "text/html": [
       "<div>\n",
       "<style>\n",
       "    .dataframe thead tr:only-child th {\n",
       "        text-align: right;\n",
       "    }\n",
       "\n",
       "    .dataframe thead th {\n",
       "        text-align: left;\n",
       "    }\n",
       "\n",
       "    .dataframe tbody tr th {\n",
       "        vertical-align: top;\n",
       "    }\n",
       "</style>\n",
       "<table border=\"1\" class=\"dataframe\">\n",
       "  <thead>\n",
       "    <tr style=\"text-align: right;\">\n",
       "      <th></th>\n",
       "      <th>Unnamed: 0</th>\n",
       "      <th>html</th>\n",
       "      <th>US_CITE</th>\n",
       "      <th>majVotes</th>\n",
       "      <th>minVotes</th>\n",
       "      <th>decisionDirection</th>\n",
       "    </tr>\n",
       "  </thead>\n",
       "  <tbody>\n",
       "    <tr>\n",
       "      <th>2</th>\n",
       "      <td>2</td>\n",
       "      <td>us \\n sct \\n ledd \\nimmigration and naturaliz...</td>\n",
       "      <td>462 U.S. 919</td>\n",
       "      <td>7.0</td>\n",
       "      <td>2.0</td>\n",
       "      <td>3.0</td>\n",
       "    </tr>\n",
       "    <tr>\n",
       "      <th>3</th>\n",
       "      <td>3</td>\n",
       "      <td>us \\n how \\n led \\njames kelsey and thomas p ...</td>\n",
       "      <td>62 U.S. 85</td>\n",
       "      <td>8.0</td>\n",
       "      <td>0.0</td>\n",
       "      <td>3.0</td>\n",
       "    </tr>\n",
       "    <tr>\n",
       "      <th>4</th>\n",
       "      <td>4</td>\n",
       "      <td>us \\n sct \\n led \\nfernand vaughan gasquet pl...</td>\n",
       "      <td>242 U.S. 367</td>\n",
       "      <td>9.0</td>\n",
       "      <td>0.0</td>\n",
       "      <td>1.0</td>\n",
       "    </tr>\n",
       "    <tr>\n",
       "      <th>7</th>\n",
       "      <td>7</td>\n",
       "      <td>us \\n pet \\n led \\ngeorge minor philip h mino...</td>\n",
       "      <td>26 U.S. 46</td>\n",
       "      <td>6.0</td>\n",
       "      <td>1.0</td>\n",
       "      <td>3.0</td>\n",
       "    </tr>\n",
       "    <tr>\n",
       "      <th>8</th>\n",
       "      <td>8</td>\n",
       "      <td>us \\n sct \\n led \\nellisvunion pac r co\\nno \\...</td>\n",
       "      <td>329 U.S. 649</td>\n",
       "      <td>9.0</td>\n",
       "      <td>0.0</td>\n",
       "      <td>2.0</td>\n",
       "    </tr>\n",
       "  </tbody>\n",
       "</table>\n",
       "</div>"
      ],
      "text/plain": [
       "   Unnamed: 0                                               html  \\\n",
       "2           2   us \\n sct \\n ledd \\nimmigration and naturaliz...   \n",
       "3           3   us \\n how \\n led \\njames kelsey and thomas p ...   \n",
       "4           4   us \\n sct \\n led \\nfernand vaughan gasquet pl...   \n",
       "7           7   us \\n pet \\n led \\ngeorge minor philip h mino...   \n",
       "8           8   us \\n sct \\n led \\nellisvunion pac r co\\nno \\...   \n",
       "\n",
       "        US_CITE  majVotes  minVotes  decisionDirection  \n",
       "2  462 U.S. 919       7.0       2.0                3.0  \n",
       "3    62 U.S. 85       8.0       0.0                3.0  \n",
       "4  242 U.S. 367       9.0       0.0                1.0  \n",
       "7    26 U.S. 46       6.0       1.0                3.0  \n",
       "8  329 U.S. 649       9.0       0.0                2.0  "
      ]
     },
     "execution_count": 154,
     "metadata": {},
     "output_type": "execute_result"
    }
   ],
   "source": [
    "final_df.head()"
   ]
  },
  {
   "cell_type": "code",
   "execution_count": 11,
   "metadata": {
    "collapsed": true
   },
   "outputs": [],
   "source": [
    "final_df.to_csv(\"final_dataset.csv\")"
   ]
  },
  {
   "cell_type": "code",
   "execution_count": 155,
   "metadata": {},
   "outputs": [
    {
     "data": {
      "text/plain": [
       "3134"
      ]
     },
     "execution_count": 155,
     "metadata": {},
     "output_type": "execute_result"
    }
   ],
   "source": [
    "len(final_df['decisionDirection'][final_df['decisionDirection'] == 3.0])"
   ]
  },
  {
   "cell_type": "code",
   "execution_count": 156,
   "metadata": {},
   "outputs": [
    {
     "data": {
      "text/plain": [
       "22599"
      ]
     },
     "execution_count": 156,
     "metadata": {},
     "output_type": "execute_result"
    }
   ],
   "source": [
    "len(final_df.US_CITE.unique())"
   ]
  },
  {
   "cell_type": "code",
   "execution_count": 157,
   "metadata": {
    "collapsed": true
   },
   "outputs": [],
   "source": [
    "html_list = final_df[\"html\"].tolist()\n",
    "cite_list = final_df[\"US_CITE\"].tolist()\n",
    "decision_list = final_df[\"decisionDirection\"].tolist()"
   ]
  },
  {
   "cell_type": "markdown",
   "metadata": {},
   "source": [
    "# Getting us_cites, for dockets, for oyez..."
   ]
  },
  {
   "cell_type": "code",
   "execution_count": 66,
   "metadata": {},
   "outputs": [],
   "source": [
    "final_df.to_csv(\"for_oyez.csv\")"
   ]
  },
  {
   "cell_type": "code",
   "execution_count": 67,
   "metadata": {
    "collapsed": true
   },
   "outputs": [],
   "source": [
    "final_df.US_CITE.to_clipboard()"
   ]
  },
  {
   "cell_type": "markdown",
   "metadata": {},
   "source": [
    "# Trying logreg, RF"
   ]
  },
  {
   "cell_type": "code",
   "execution_count": 158,
   "metadata": {
    "collapsed": true
   },
   "outputs": [],
   "source": [
    "X = html_list\n",
    "Y = decision_list"
   ]
  },
  {
   "cell_type": "code",
   "execution_count": 159,
   "metadata": {
    "collapsed": true
   },
   "outputs": [],
   "source": [
    "from sklearn.feature_extraction.text import CountVectorizer\n",
    "from sklearn import metrics # for confusion matrix, accuracy score etc\n",
    "from sklearn.model_selection import train_test_split\n",
    "\n",
    "# CountVectorizer can actucally handle a lot of the preprocessing for us\n",
    "vectorizer = CountVectorizer(analyzer = \"word\",   \\\n",
    "                             tokenizer = None,    \\\n",
    "                             preprocessor = None, \\\n",
    "                             stop_words = None,   \\\n",
    "                             max_features = 5000)"
   ]
  },
  {
   "cell_type": "code",
   "execution_count": 160,
   "metadata": {},
   "outputs": [
    {
     "name": "stdout",
     "output_type": "stream",
     "text": [
      "Number of samples in training data: 18154\n",
      "Number of samples in validation data: 4539\n"
     ]
    }
   ],
   "source": [
    "# Split data into training and validation set  using sklearn function\n",
    "\n",
    "from sklearn.model_selection import train_test_split\n",
    "x_train, x_test, y_train, y_test = train_test_split(X, Y, test_size=0.2, random_state=100)\n",
    "print ('Number of samples in training data:',len(x_train))\n",
    "print ('Number of samples in validation data:',len(x_test))"
   ]
  },
  {
   "cell_type": "code",
   "execution_count": 161,
   "metadata": {},
   "outputs": [
    {
     "data": {
      "text/plain": [
       "CountVectorizer(analyzer='word', binary=False, decode_error='strict',\n",
       "        dtype=<class 'numpy.int64'>, encoding='utf-8', input='content',\n",
       "        lowercase=True, max_df=1.0, max_features=5000, min_df=1,\n",
       "        ngram_range=(1, 1), preprocessor=None, stop_words=None,\n",
       "        strip_accents=None, token_pattern='(?u)\\\\b\\\\w\\\\w+\\\\b',\n",
       "        tokenizer=None, vocabulary=None)"
      ]
     },
     "execution_count": 161,
     "metadata": {},
     "output_type": "execute_result"
    }
   ],
   "source": [
    "vectorizer.fit(x_train)"
   ]
  },
  {
   "cell_type": "code",
   "execution_count": 162,
   "metadata": {},
   "outputs": [
    {
     "name": "stdout",
     "output_type": "stream",
     "text": [
      "['aa', 'ab', 'abandon', 'abandoned', 'abandonment', 'abatement', 'ability', 'able', 'abortion', 'about']\n"
     ]
    }
   ],
   "source": [
    "# Check that it worked, \n",
    "# now we have fitted a model that can transform features\n",
    "# to sparse matrix representation\n",
    "\n",
    "print(vectorizer.get_feature_names()[:10])"
   ]
  },
  {
   "cell_type": "code",
   "execution_count": 163,
   "metadata": {},
   "outputs": [],
   "source": [
    "train_bag = vectorizer.transform(x_train) #transform to a feature matrix\n",
    "test_bag = vectorizer.transform(x_test)"
   ]
  },
  {
   "cell_type": "code",
   "execution_count": 164,
   "metadata": {},
   "outputs": [
    {
     "name": "stdout",
     "output_type": "stream",
     "text": [
      "(18154, 5000)\n",
      "(4539, 5000)\n"
     ]
    }
   ],
   "source": [
    "print(train_bag.toarray().shape) # 20,000 reviews, 2,000 feartures. just as expected\n",
    "print(test_bag.toarray().shape)"
   ]
  },
  {
   "cell_type": "code",
   "execution_count": 165,
   "metadata": {
    "scrolled": true
   },
   "outputs": [
    {
     "name": "stdout",
     "output_type": "stream",
     "text": [
      "  (0, 9)\t1\n",
      "  (0, 10)\t5\n",
      "  (0, 16)\t1\n",
      "  (0, 35)\t1\n",
      "  (0, 36)\t3\n",
      "  (0, 48)\t1\n",
      "  (0, 60)\t55\n",
      "  (0, 63)\t17\n",
      "  (0, 68)\t2\n",
      "  (0, 77)\t1\n",
      "  (0, 78)\t4\n",
      "  (0, 110)\t2\n",
      "  (0, 127)\t1\n",
      "  (0, 144)\t2\n",
      "  (0, 145)\t1\n",
      "  (0, 150)\t6\n",
      "  (0, 151)\t1\n",
      "  (0, 153)\t8\n",
      "  (0, 165)\t1\n",
      "  (0, 185)\t9\n",
      "  (0, 186)\t1\n",
      "  (0, 189)\t1\n",
      "  (0, 205)\t1\n",
      "  (0, 208)\t5\n",
      "  (0, 209)\t1\n",
      "  :\t:\n",
      "  (18153, 4895)\t1\n",
      "  (18153, 4898)\t12\n",
      "  (18153, 4902)\t3\n",
      "  (18153, 4909)\t7\n",
      "  (18153, 4911)\t9\n",
      "  (18153, 4918)\t4\n",
      "  (18153, 4919)\t13\n",
      "  (18153, 4920)\t1\n",
      "  (18153, 4922)\t5\n",
      "  (18153, 4924)\t2\n",
      "  (18153, 4927)\t1\n",
      "  (18153, 4928)\t2\n",
      "  (18153, 4930)\t1\n",
      "  (18153, 4935)\t3\n",
      "  (18153, 4950)\t5\n",
      "  (18153, 4957)\t1\n",
      "  (18153, 4958)\t7\n",
      "  (18153, 4959)\t1\n",
      "  (18153, 4962)\t1\n",
      "  (18153, 4967)\t1\n",
      "  (18153, 4968)\t1\n",
      "  (18153, 4975)\t5\n",
      "  (18153, 4990)\t1\n",
      "  (18153, 4991)\t1\n",
      "  (18153, 4992)\t1\n"
     ]
    }
   ],
   "source": [
    "type(train_bag) # sparse matrix representation\n",
    "\n",
    "print(train_bag)"
   ]
  },
  {
   "cell_type": "code",
   "execution_count": 166,
   "metadata": {
    "collapsed": true
   },
   "outputs": [],
   "source": [
    "# TFIDF\n",
    "\n",
    "from sklearn.feature_extraction.text import TfidfTransformer\n",
    "\n",
    "transformer = TfidfTransformer()\n",
    "train_bag_tfidf = transformer.fit_transform(train_bag)\n",
    "test_bag_tfidf = transformer.fit_transform(test_bag)"
   ]
  },
  {
   "cell_type": "code",
   "execution_count": 167,
   "metadata": {
    "collapsed": true
   },
   "outputs": [],
   "source": [
    "# RF\n",
    "\n",
    "from sklearn.ensemble import RandomForestClassifier\n",
    "\n",
    "## Initialize a Random Forest classifier with 50 trees\n",
    "# hyperparameter n_estimators always set in instantiation\n",
    "\n",
    "forest = RandomForestClassifier(n_estimators = 50)"
   ]
  },
  {
   "cell_type": "code",
   "execution_count": 168,
   "metadata": {},
   "outputs": [
    {
     "name": "stdout",
     "output_type": "stream",
     "text": [
      "CPU times: user 1min 23s, sys: 816 ms, total: 1min 23s\n",
      "Wall time: 1min 25s\n"
     ]
    }
   ],
   "source": [
    "%%time\n",
    "# Fit the forest to the training set, using the bag of words as \n",
    "# features and the sentiment labels as the target variable\n",
    "\n",
    "forest = forest.fit(train_bag_tfidf, y_train) # can take 2 mins to run"
   ]
  },
  {
   "cell_type": "code",
   "execution_count": 169,
   "metadata": {
    "collapsed": true
   },
   "outputs": [],
   "source": [
    "#Make predictions\n",
    "\n",
    "train_predictions = forest.predict(train_bag_tfidf)\n",
    "valid_predictions = forest.predict(test_bag_tfidf)"
   ]
  },
  {
   "cell_type": "code",
   "execution_count": 54,
   "metadata": {},
   "outputs": [
    {
     "data": {
      "text/plain": [
       "0.99889831442106425"
      ]
     },
     "execution_count": 54,
     "metadata": {},
     "output_type": "execute_result"
    }
   ],
   "source": [
    "# Accuracy\n",
    "\n",
    "metrics.accuracy_score(y_train,train_predictions)"
   ]
  },
  {
   "cell_type": "code",
   "execution_count": 170,
   "metadata": {},
   "outputs": [
    {
     "data": {
      "text/plain": [
       "0.54020709407358447"
      ]
     },
     "execution_count": 170,
     "metadata": {},
     "output_type": "execute_result"
    }
   ],
   "source": [
    "metrics.accuracy_score(y_test,valid_predictions)"
   ]
  },
  {
   "cell_type": "code",
   "execution_count": 56,
   "metadata": {},
   "outputs": [
    {
     "data": {
      "text/plain": [
       "array([[ 906,  866,   37],\n",
       "       [ 737, 1291,   66],\n",
       "       [ 152,  241,  243]])"
      ]
     },
     "execution_count": 56,
     "metadata": {},
     "output_type": "execute_result"
    }
   ],
   "source": [
    "# Confusion matrix\n",
    "# Is the number of False Positives and True negatives approx 50/50?\n",
    "metrics.confusion_matrix(y_test,valid_predictions)"
   ]
  },
  {
   "cell_type": "code",
   "execution_count": 57,
   "metadata": {},
   "outputs": [
    {
     "name": "stdout",
     "output_type": "stream",
     "text": [
      "[  7.83488635e-05   1.47057230e-04   5.81711477e-05 ...,   5.94784841e-06\n",
      "   1.56716445e-04   4.06137858e-05]\n"
     ]
    }
   ],
   "source": [
    "importances = forest.feature_importances_\n",
    "# returns relative importance of all features.\n",
    "# they are in the order of the columns\n",
    "print(importances)"
   ]
  },
  {
   "cell_type": "code",
   "execution_count": null,
   "metadata": {},
   "outputs": [],
   "source": []
  },
  {
   "cell_type": "code",
   "execution_count": 171,
   "metadata": {},
   "outputs": [
    {
     "data": {
      "text/plain": [
       "LogisticRegression(C=100000.0, class_weight=None, dual=False,\n",
       "          fit_intercept=True, intercept_scaling=1, max_iter=100,\n",
       "          multi_class='ovr', n_jobs=1, penalty='l2', random_state=None,\n",
       "          solver='liblinear', tol=0.0001, verbose=0, warm_start=False)"
      ]
     },
     "execution_count": 171,
     "metadata": {},
     "output_type": "execute_result"
    }
   ],
   "source": [
    "# Logreg\n",
    "\n",
    "# Name our regression object\n",
    "logreg = linear_model.LogisticRegression(C=1e5)\n",
    "\n",
    "# we create an instance of Neighbours Classifier and fit the data.\n",
    "logreg.fit(train_bag_tfidf, y_train)"
   ]
  },
  {
   "cell_type": "code",
   "execution_count": 172,
   "metadata": {},
   "outputs": [],
   "source": [
    "train_predictions_lg = logreg.predict(train_bag_tfidf)\n",
    "valid_predictions_lg = logreg.predict(test_bag_tfidf)"
   ]
  },
  {
   "cell_type": "code",
   "execution_count": 173,
   "metadata": {},
   "outputs": [
    {
     "data": {
      "text/plain": [
       "0.82158202049135176"
      ]
     },
     "execution_count": 173,
     "metadata": {},
     "output_type": "execute_result"
    }
   ],
   "source": [
    "# Accuracy\n",
    "\n",
    "metrics.accuracy_score(y_train,train_predictions_lg)"
   ]
  },
  {
   "cell_type": "code",
   "execution_count": 174,
   "metadata": {},
   "outputs": [
    {
     "data": {
      "text/plain": [
       "0.52324300506719545"
      ]
     },
     "execution_count": 174,
     "metadata": {},
     "output_type": "execute_result"
    }
   ],
   "source": [
    "metrics.accuracy_score(y_test,valid_predictions_lg)"
   ]
  },
  {
   "cell_type": "code",
   "execution_count": 62,
   "metadata": {},
   "outputs": [
    {
     "data": {
      "text/plain": [
       "array([[ 948,  738,  123],\n",
       "       [ 820, 1107,  167],\n",
       "       [ 127,  151,  358]])"
      ]
     },
     "execution_count": 62,
     "metadata": {},
     "output_type": "execute_result"
    }
   ],
   "source": [
    "# Confusion matrix\n",
    "# Is the number of False Positives and True negatives approx 50/50?\n",
    "metrics.confusion_matrix(y_test,valid_predictions_lg)"
   ]
  },
  {
   "cell_type": "code",
   "execution_count": null,
   "metadata": {
    "collapsed": true
   },
   "outputs": [],
   "source": []
  },
  {
   "cell_type": "code",
   "execution_count": 117,
   "metadata": {
    "collapsed": true
   },
   "outputs": [],
   "source": [
    "# Ridge regression\n",
    "\n",
    "from sklearn.linear_model import Ridge\n",
    "import numpy as np\n",
    "\n",
    "ridge_reg = Ridge(alpha=1.0, normalize=False)"
   ]
  },
  {
   "cell_type": "code",
   "execution_count": 118,
   "metadata": {},
   "outputs": [
    {
     "data": {
      "text/plain": [
       "Ridge(alpha=1.0, copy_X=True, fit_intercept=True, max_iter=None,\n",
       "   normalize=False, random_state=None, solver='auto', tol=0.001)"
      ]
     },
     "execution_count": 118,
     "metadata": {},
     "output_type": "execute_result"
    }
   ],
   "source": [
    "ridge_reg.fit(train_bag_tfidf, y_train)"
   ]
  },
  {
   "cell_type": "code",
   "execution_count": 119,
   "metadata": {
    "collapsed": true
   },
   "outputs": [],
   "source": [
    "train_predictions_ridge = ridge_reg.predict(train_bag_tfidf)\n",
    "valid_predictions_ridge = ridge_reg.predict(test_bag_tfidf)"
   ]
  },
  {
   "cell_type": "code",
   "execution_count": 139,
   "metadata": {},
   "outputs": [
    {
     "data": {
      "text/plain": [
       "0.3601279118793641"
      ]
     },
     "execution_count": 139,
     "metadata": {},
     "output_type": "execute_result"
    }
   ],
   "source": [
    "# Accuracy\n",
    "\n",
    "metrics.r2_score(y_train,train_predictions_ridge)"
   ]
  },
  {
   "cell_type": "code",
   "execution_count": 140,
   "metadata": {},
   "outputs": [
    {
     "data": {
      "text/plain": [
       "0.23735601046110844"
      ]
     },
     "execution_count": 140,
     "metadata": {},
     "output_type": "execute_result"
    }
   ],
   "source": [
    "metrics.r2_score(y_test,valid_predictions_ridge)"
   ]
  },
  {
   "cell_type": "code",
   "execution_count": null,
   "metadata": {
    "collapsed": true
   },
   "outputs": [],
   "source": []
  },
  {
   "cell_type": "code",
   "execution_count": 133,
   "metadata": {
    "collapsed": true
   },
   "outputs": [],
   "source": [
    "# Lasso regression\n",
    "\n",
    "from sklearn.linear_model import Lasso\n",
    "\n",
    "lasso_reg = Lasso(alpha=0.01,normalize=True, max_iter=1e5)"
   ]
  },
  {
   "cell_type": "code",
   "execution_count": 134,
   "metadata": {},
   "outputs": [
    {
     "data": {
      "text/plain": [
       "Lasso(alpha=0.01, copy_X=True, fit_intercept=True, max_iter=100000.0,\n",
       "   normalize=True, positive=False, precompute=False, random_state=None,\n",
       "   selection='cyclic', tol=0.0001, warm_start=False)"
      ]
     },
     "execution_count": 134,
     "metadata": {},
     "output_type": "execute_result"
    }
   ],
   "source": [
    "lasso_reg.fit(train_bag_tfidf, y_train)"
   ]
  },
  {
   "cell_type": "code",
   "execution_count": 135,
   "metadata": {
    "collapsed": true
   },
   "outputs": [],
   "source": [
    "train_predictions_lasso = lasso_reg.predict(train_bag_tfidf)\n",
    "valid_predictions_lasso = lasso_reg.predict(test_bag_tfidf)"
   ]
  },
  {
   "cell_type": "code",
   "execution_count": 136,
   "metadata": {},
   "outputs": [
    {
     "data": {
      "text/plain": [
       "0.0"
      ]
     },
     "execution_count": 136,
     "metadata": {},
     "output_type": "execute_result"
    }
   ],
   "source": [
    "# Accuracy\n",
    "\n",
    "metrics.r2_score(y_train,train_predictions_lasso)"
   ]
  },
  {
   "cell_type": "code",
   "execution_count": 137,
   "metadata": {},
   "outputs": [
    {
     "data": {
      "text/plain": [
       "-0.00039713218602810407"
      ]
     },
     "execution_count": 137,
     "metadata": {},
     "output_type": "execute_result"
    }
   ],
   "source": [
    "metrics.r2_score(y_test,valid_predictions_lasso)"
   ]
  },
  {
   "cell_type": "markdown",
   "metadata": {},
   "source": [
    "# MODEL..."
   ]
  },
  {
   "cell_type": "code",
   "execution_count": null,
   "metadata": {
    "collapsed": true
   },
   "outputs": [],
   "source": []
  },
  {
   "cell_type": "code",
   "execution_count": null,
   "metadata": {
    "collapsed": true,
    "scrolled": true
   },
   "outputs": [],
   "source": [
    "import pandas as pd\n",
    "import numpy as np\n",
    "import matplotlib.pyplot as plt\n",
    "%matplotlib inline\n",
    "\n",
    "from keras.layers import Embedding, LSTM, Dense, Conv1D, MaxPooling1D, Dropout, Activation\n",
    "from keras.models import Sequential\n",
    "from keras.preprocessing.text import Tokenizer\n",
    "from keras.preprocessing.sequence import pad_sequences\n",
    "from sklearn.feature_extraction.text import CountVectorizer\n",
    "from sklearn.feature_extraction.text import TfidfTransformer\n",
    "from sklearn.cross_validation import train_test_split\n",
    "from sklearn.preprocessing import LabelEncoder\n",
    "from keras.utils import np_utils\n",
    "from keras.layers import Dropout\n",
    "\n",
    "data = html_list\n",
    "label = cite_list\n",
    "target = decision_list\n",
    "\n",
    "# X_train, X_test, y_train, y_test = train_test_split( data, target, test_size=0.2, random_state=42)\n",
    "\n",
    "encoder = LabelEncoder()\n",
    "encoder.fit(target)\n",
    "encoded_Y = encoder.transform(target)\n",
    "# convert integers to dummy variables (i.e. one hot encoded)\n",
    "y_train = np_utils.to_categorical(encoded_Y)\n",
    "\n",
    "#print(y_train)\n",
    "\n",
    "count_vect = CountVectorizer()\n",
    "X_train_counts = count_vect.fit_transform(data)\n",
    "tfidf_transformer = TfidfTransformer()\n",
    "X_train_tfidf = tfidf_transformer.fit_transform(X_train_counts)\n",
    "ELEMS, VOCAB = X_train_counts.shape\n",
    "\n",
    "\n",
    "\n",
    "#this is logireg\n",
    "# model = Sequential()\n",
    "# model.add(Dense(1, activation='sigmoid', input_dim=X_train_tfidf.shape[1]))\n",
    "# model.compile(optimizer='rmsprop', loss='binary_crossentropy', metrics=['accuracy'])\n",
    "# result1 = model.fit(X_train_tfidf.todense(), y_train, epochs=1, validation_data=(X_test,y_test))\n",
    "\n",
    "# plt.plot(result1.history['acc'],'k')\n",
    "# plt.show()\n",
    "\n",
    "# *************************\n",
    "\n",
    "model = Sequential()\n",
    "model.add(Dense(30, input_dim=X_train_tfidf.shape[1], activation='relu'))\n",
    "model.add(Dropout(0.2))\n",
    "model.add(Dense(3, activation='softmax'))\n",
    "# Compile model\n",
    "model.compile(loss='categorical_crossentropy', optimizer='adam', metrics=['accuracy'])\n",
    "result2 = model.fit(X_train_tfidf.todense(), y_train, epochs=10)\n",
    "\n",
    "plt.plot(result2.history['acc'],'k')\n",
    "plt.show()\n",
    "\n",
    "\n",
    "# model = Sequential()\n",
    "# model.add(Embedding(VOCAB, 128, input_length=300))\n",
    "# model.add(LSTM(128, dropout=0.2, recurrent_dropout=0.2))\n",
    "# model.add(Dense(1, activation='sigmoid'))\n",
    "# model.compile(loss='binary_crossentropy', optimizer='adam', metrics=['accuracy'])\n",
    "\n"
   ]
  },
  {
   "cell_type": "code",
   "execution_count": null,
   "metadata": {
    "collapsed": true
   },
   "outputs": [],
   "source": [
    "#### No dropout, 100\n",
    "# Epoch 1/50\n",
    "# 22693/22693 [==============================] - 409s - loss: 0.8474 - acc: 0.5516   \n",
    "# Epoch 2/50\n",
    "# 22693/22693 [==============================] - 372s - loss: 0.6453 - acc: 0.7160   \n",
    "# Epoch 3/50\n",
    "# 22693/22693 [==============================] - 380s - loss: 0.4258 - acc: 0.8483   \n",
    "# Epoch 4/50\n",
    "# 22693/22693 [==============================] - 386s - loss: 0.2536 - acc: 0.9272   \n",
    "# Epoch 5/50\n",
    "# 22693/22693 [==============================] - 364s - loss: 0.1479 - acc: 0.9646   \n",
    "# Epoch 6/50\n",
    "# 22693/22693 [==============================] - 391s - loss: 0.0821 - acc: 0.9867   \n",
    "# Epoch 7/50\n",
    "# 22693/22693 [==============================] - 388s - loss: 0.0492 - acc: 0.9937   \n",
    "# Epoch 8/50\n",
    "# 22693/22693 [==============================] - 392s - loss: 0.0315 - acc: 0.9961   \n",
    "# Epoch 9/50\n",
    "# 22693/22693 [==============================] - 378s - loss: 0.0228 - acc: 0.9969   \n",
    "# Epoch 10/50\n",
    "#  1280/22693 [>.............................] - ETA: 327s - loss: 0.0177 - acc: 0.9961\n",
    "\n",
    "\n",
    "#### Dropout, 20\n",
    "# Epoch 1/10\n",
    "# 22693/22693 [==============================] - 135s - loss: 0.9048 - acc: 0.4918   \n",
    "# Epoch 2/10\n",
    "# 22693/22693 [==============================] - 130s - loss: 0.7895 - acc: 0.6076   \n",
    "# Epoch 3/10\n",
    "# 22693/22693 [==============================] - 132s - loss: 0.6932 - acc: 0.6903   \n",
    "# Epoch 4/10\n",
    "# 22693/22693 [==============================] - 138s - loss: 0.5873 - acc: 0.7640   \n",
    "# Epoch 5/10\n",
    "# 22693/22693 [==============================] - 139s - loss: 0.4783 - acc: 0.8235   \n",
    "# Epoch 6/10\n",
    "# 22693/22693 [==============================] - 136s - loss: 0.3764 - acc: 0.8772   \n",
    "# Epoch 7/10\n",
    "# 22693/22693 [==============================] - 132s - loss: 0.2921 - acc: 0.9157   \n",
    "# Epoch 8/10\n",
    "# 22693/22693 [==============================] - 130s - loss: 0.2266 - acc: 0.9377   \n",
    "# Epoch 9/10\n",
    "# 22693/22693 [==============================] - 132s - loss: 0.1759 - acc: 0.9558   \n",
    "# Epoch 10/10\n",
    "# 22693/22693 [==============================] - 130s - loss: 0.1332 - acc: 0.9704   \n",
    "\n",
    "\n",
    "#### Dropout, 50\n",
    "# Epoch 1/10\n",
    "# 22693/22693 [==============================] - ETA: 0s - loss: 0.8863 - acc: 0.519 - 222s - loss: 0.8863 - acc: 0.5197   \n",
    "# Epoch 2/10\n",
    "# 22693/22693 [==============================] - 303s - loss: 0.7537 - acc: 0.6377   \n",
    "# Epoch 3/10\n",
    "# 22693/22693 [==============================] - 237s - loss: 0.6267 - acc: 0.7350   \n",
    "# Epoch 4/10\n",
    "# 22693/22693 [==============================] - 243s - loss: 0.4833 - acc: 0.8206   \n",
    "# Epoch 5/10\n",
    "# 22693/22693 [==============================] - 231s - loss: 0.3542 - acc: 0.8842   \n",
    "# Epoch 6/10\n",
    "# 22693/22693 [==============================] - 227s - loss: 0.2532 - acc: 0.9245   \n",
    "# Epoch 7/10\n",
    "# 22693/22693 [==============================] - 228s - loss: 0.1775 - acc: 0.9556   \n",
    "# Epoch 8/10\n",
    "# 22693/22693 [==============================] - 232s - loss: 0.1222 - acc: 0.9750   \n",
    "# Epoch 9/10\n",
    "# 22693/22693 [==============================] - 233s - loss: 0.0868 - acc: 0.9844   \n",
    "# Epoch 10/10\n",
    "# 22693/22693 [==============================] - 247s - loss: 0.0615 - acc: 0.9899 \n",
    "\n",
    "\n",
    "#### Dropout, 30\n",
    "# Epoch 1/10\n",
    "# 22693/22693 [==============================] - 161s - loss: 0.9124 - acc: 0.5001   \n",
    "# Epoch 2/10\n",
    "# 22693/22693 [==============================] - 165s - loss: 0.7876 - acc: 0.6071   \n",
    "# Epoch 3/10\n",
    "# 22693/22693 [==============================] - 167s - loss: 0.6895 - acc: 0.6924   \n",
    "# Epoch 4/10\n",
    "# 22693/22693 [==============================] - 154s - loss: 0.5667 - acc: 0.7713   \n",
    "# Epoch 5/10\n",
    "# 22693/22693 [==============================] - 157s - loss: 0.4414 - acc: 0.8436   \n",
    "# Epoch 6/10\n",
    "# 22693/22693 [==============================] - 166s - loss: 0.3283 - acc: 0.8982   \n",
    "# Epoch 7/10\n",
    "# 22693/22693 [==============================] - 175s - loss: 0.2387 - acc: 0.9337   \n",
    "# Epoch 8/10\n",
    "# 22693/22693 [==============================] - 170s - loss: 0.1720 - acc: 0.9578   \n",
    "# Epoch 9/10\n",
    "# 22693/22693 [==============================] - 167s - loss: 0.1223 - acc: 0.9741   \n",
    "# Epoch 10/10\n",
    "# 22693/22693 [==============================] - 154s - loss: 0.0892 - acc: 0.9842 "
   ]
  },
  {
   "cell_type": "code",
   "execution_count": null,
   "metadata": {
    "collapsed": true
   },
   "outputs": [],
   "source": [
    "#!pip install keras -U"
   ]
  },
  {
   "cell_type": "code",
   "execution_count": 16,
   "metadata": {},
   "outputs": [
    {
     "name": "stderr",
     "output_type": "stream",
     "text": [
      "/anaconda/lib/python3.6/site-packages/sklearn/cross_validation.py:44: DeprecationWarning: This module was deprecated in version 0.18 in favor of the model_selection module into which all the refactored classes and functions are moved. Also note that the interface of the new CV iterators are different from that of this module. This module will be removed in 0.20.\n",
      "  \"This module will be removed in 0.20.\", DeprecationWarning)\n"
     ]
    },
    {
     "ename": "ValueError",
     "evalue": "bad input shape (18154, 3)",
     "output_type": "error",
     "traceback": [
      "\u001b[0;31m---------------------------------------------------------------------------\u001b[0m",
      "\u001b[0;31mValueError\u001b[0m                                Traceback (most recent call last)",
      "\u001b[0;32m<ipython-input-16-fde51f4956dd>\u001b[0m in \u001b[0;36m<module>\u001b[0;34m()\u001b[0m\n\u001b[1;32m     45\u001b[0m \u001b[0;34m\u001b[0m\u001b[0m\n\u001b[1;32m     46\u001b[0m \u001b[0;31m# we create an instance of Neighbours Classifier and fit the data.\u001b[0m\u001b[0;34m\u001b[0m\u001b[0;34m\u001b[0m\u001b[0m\n\u001b[0;32m---> 47\u001b[0;31m \u001b[0mlogreg\u001b[0m\u001b[0;34m.\u001b[0m\u001b[0mfit\u001b[0m\u001b[0;34m(\u001b[0m\u001b[0mX\u001b[0m\u001b[0;34m,\u001b[0m \u001b[0mY\u001b[0m\u001b[0;34m)\u001b[0m\u001b[0;34m\u001b[0m\u001b[0m\n\u001b[0m\u001b[1;32m     48\u001b[0m \u001b[0;34m\u001b[0m\u001b[0m\n\u001b[1;32m     49\u001b[0m \u001b[0;34m\u001b[0m\u001b[0m\n",
      "\u001b[0;32m/anaconda/lib/python3.6/site-packages/sklearn/linear_model/logistic.py\u001b[0m in \u001b[0;36mfit\u001b[0;34m(self, X, y, sample_weight)\u001b[0m\n\u001b[1;32m   1171\u001b[0m \u001b[0;34m\u001b[0m\u001b[0m\n\u001b[1;32m   1172\u001b[0m         X, y = check_X_y(X, y, accept_sparse='csr', dtype=np.float64,\n\u001b[0;32m-> 1173\u001b[0;31m                          order=\"C\")\n\u001b[0m\u001b[1;32m   1174\u001b[0m         \u001b[0mcheck_classification_targets\u001b[0m\u001b[0;34m(\u001b[0m\u001b[0my\u001b[0m\u001b[0;34m)\u001b[0m\u001b[0;34m\u001b[0m\u001b[0m\n\u001b[1;32m   1175\u001b[0m         \u001b[0mself\u001b[0m\u001b[0;34m.\u001b[0m\u001b[0mclasses_\u001b[0m \u001b[0;34m=\u001b[0m \u001b[0mnp\u001b[0m\u001b[0;34m.\u001b[0m\u001b[0munique\u001b[0m\u001b[0;34m(\u001b[0m\u001b[0my\u001b[0m\u001b[0;34m)\u001b[0m\u001b[0;34m\u001b[0m\u001b[0m\n",
      "\u001b[0;32m/anaconda/lib/python3.6/site-packages/sklearn/utils/validation.py\u001b[0m in \u001b[0;36mcheck_X_y\u001b[0;34m(X, y, accept_sparse, dtype, order, copy, force_all_finite, ensure_2d, allow_nd, multi_output, ensure_min_samples, ensure_min_features, y_numeric, warn_on_dtype, estimator)\u001b[0m\n\u001b[1;32m    524\u001b[0m                         dtype=None)\n\u001b[1;32m    525\u001b[0m     \u001b[0;32melse\u001b[0m\u001b[0;34m:\u001b[0m\u001b[0;34m\u001b[0m\u001b[0m\n\u001b[0;32m--> 526\u001b[0;31m         \u001b[0my\u001b[0m \u001b[0;34m=\u001b[0m \u001b[0mcolumn_or_1d\u001b[0m\u001b[0;34m(\u001b[0m\u001b[0my\u001b[0m\u001b[0;34m,\u001b[0m \u001b[0mwarn\u001b[0m\u001b[0;34m=\u001b[0m\u001b[0;32mTrue\u001b[0m\u001b[0;34m)\u001b[0m\u001b[0;34m\u001b[0m\u001b[0m\n\u001b[0m\u001b[1;32m    527\u001b[0m         \u001b[0m_assert_all_finite\u001b[0m\u001b[0;34m(\u001b[0m\u001b[0my\u001b[0m\u001b[0;34m)\u001b[0m\u001b[0;34m\u001b[0m\u001b[0m\n\u001b[1;32m    528\u001b[0m     \u001b[0;32mif\u001b[0m \u001b[0my_numeric\u001b[0m \u001b[0;32mand\u001b[0m \u001b[0my\u001b[0m\u001b[0;34m.\u001b[0m\u001b[0mdtype\u001b[0m\u001b[0;34m.\u001b[0m\u001b[0mkind\u001b[0m \u001b[0;34m==\u001b[0m \u001b[0;34m'O'\u001b[0m\u001b[0;34m:\u001b[0m\u001b[0;34m\u001b[0m\u001b[0m\n",
      "\u001b[0;32m/anaconda/lib/python3.6/site-packages/sklearn/utils/validation.py\u001b[0m in \u001b[0;36mcolumn_or_1d\u001b[0;34m(y, warn)\u001b[0m\n\u001b[1;32m    560\u001b[0m         \u001b[0;32mreturn\u001b[0m \u001b[0mnp\u001b[0m\u001b[0;34m.\u001b[0m\u001b[0mravel\u001b[0m\u001b[0;34m(\u001b[0m\u001b[0my\u001b[0m\u001b[0;34m)\u001b[0m\u001b[0;34m\u001b[0m\u001b[0m\n\u001b[1;32m    561\u001b[0m \u001b[0;34m\u001b[0m\u001b[0m\n\u001b[0;32m--> 562\u001b[0;31m     \u001b[0;32mraise\u001b[0m \u001b[0mValueError\u001b[0m\u001b[0;34m(\u001b[0m\u001b[0;34m\"bad input shape {0}\"\u001b[0m\u001b[0;34m.\u001b[0m\u001b[0mformat\u001b[0m\u001b[0;34m(\u001b[0m\u001b[0mshape\u001b[0m\u001b[0;34m)\u001b[0m\u001b[0;34m)\u001b[0m\u001b[0;34m\u001b[0m\u001b[0m\n\u001b[0m\u001b[1;32m    563\u001b[0m \u001b[0;34m\u001b[0m\u001b[0m\n\u001b[1;32m    564\u001b[0m \u001b[0;34m\u001b[0m\u001b[0m\n",
      "\u001b[0;31mValueError\u001b[0m: bad input shape (18154, 3)"
     ]
    }
   ],
   "source": [
    "import pandas as pd\n",
    "import numpy as np\n",
    "\n",
    "from keras.layers import Embedding, LSTM, Dense, Conv1D, MaxPooling1D, Dropout, Activation\n",
    "from keras.models import Sequential\n",
    "from keras.preprocessing.text import Tokenizer\n",
    "from keras.preprocessing.sequence import pad_sequences\n",
    "from sklearn.feature_extraction.text import CountVectorizer\n",
    "from sklearn.feature_extraction.text import TfidfTransformer\n",
    "from sklearn.cross_validation import train_test_split\n",
    "from sklearn.preprocessing import LabelEncoder\n",
    "from keras.utils import np_utils\n",
    "\n",
    "data = html_list\n",
    "label = cite_list\n",
    "target = decision_list\n",
    "\n",
    "X_train, X_test, y_train, y_test = train_test_split( data, target, test_size=0.2, random_state=42)\n",
    "\n",
    "encoder = LabelEncoder()\n",
    "encoder.fit(target)\n",
    "encoded_Y_train = encoder.transform(y_train)\n",
    "# convert integers to dummy variables (i.e. one hot encoded)\n",
    "y_train = np_utils.to_categorical(encoded_Y_train)\n",
    "y_test = np_utils.to_categorical(encoder.transform(y_test))\n",
    "\n",
    "count_vect = CountVectorizer()\n",
    "X_train_counts = count_vect.fit_transform(X_train)\n",
    "X_test_counts = count_vect.transform(X_test)\n",
    "tfidf_transformer = TfidfTransformer()\n",
    "X_train_tfidf = tfidf_transformer.fit_transform(X_train_counts)\n",
    "X_test_tfidf = tfidf_transformer.transform(X_test_counts)\n",
    "# ELEMS, VOCAB = X_train_counts.shape\n",
    "\n",
    "\n",
    "X = X_train_tfidf.todense()\n",
    "Y = y_train\n",
    "\n",
    "import numpy as np\n",
    "import matplotlib.pyplot as plt\n",
    "from sklearn import linear_model, datasets\n",
    "\n",
    "# Name our regression object\n",
    "logreg = linear_model.LogisticRegression(C=1e5)\n",
    "\n",
    "# we create an instance of Neighbours Classifier and fit the data.\n",
    "logreg.fit(X, Y)\n",
    "\n",
    "\n",
    "\n",
    "\n",
    "#this is logireg\n",
    "# model = Sequential()\n",
    "# model.add(Dense(3, activation='sigmoid', input_dim=X_train_tfidf.shape[1]))\n",
    "# model.compile(optimizer='rmsprop', loss='binary_crossentropy', metrics=['accuracy'])\n",
    "# model.fit(X_train_tfidf.todense(), y_train, epochs=1, validation_data=(X_test,y_test))\n",
    "\n",
    "##model = Sequential()\n",
    "##model.add(Dense(100, input_dim=X_train_tfidf.shape[1], activation='tanh'))\n",
    "#model.add(Dropout(0.5))\n",
    "##model.add(Dense(3, activation='softmax'))\n",
    "# Compile model\n",
    "##model.compile(loss='categorical_crossentropy', optimizer='adam', metrics=['accuracy'])\n",
    "##model.fit(X_train_tfidf.todense(), y_train, epochs=10, validation_data=(X_test_tfidf.todense(),y_test))\n",
    "\n",
    "\n",
    "# model = Sequential()\n",
    "# model.add(Embedding(VOCAB, 128, input_length=300))\n",
    "# model.add(LSTM(128, dropout=0.2, recurrent_dropout=0.2))\n",
    "# model.add(Dense(1, activation='sigmoid'))\n",
    "# model.compile(loss='binary_crossentropy', optimizer='adam', metrics=['accuracy'])\n",
    "\n",
    "#### 20, 50, 100 - dropout & no dropout = 3 + 3 = 6"
   ]
  },
  {
   "cell_type": "code",
   "execution_count": null,
   "metadata": {
    "collapsed": true
   },
   "outputs": [],
   "source": [
    "#### 100, dropout=0.5, activation=tanh\n",
    "# Train on 18154 samples, validate on 4539 samples\n",
    "# Epoch 1/10\n",
    "# 18154/18154 [==============================] - 278s - loss: 0.8570 - acc: 0.5436 - val_loss: 0.7966 - val_acc: 0.5772\n",
    "# Epoch 2/10\n",
    "# 18154/18154 [==============================] - 271s - loss: 0.6760 - acc: 0.6935 - val_loss: 0.7917 - val_acc: 0.5856\n",
    "# Epoch 3/10\n",
    "# 18154/18154 [==============================] - 274s - loss: 0.4855 - acc: 0.8127 - val_loss: 0.8751 - val_acc: 0.5719\n",
    "# Epoch 4/10\n",
    "# 18154/18154 [==============================] - 278s - loss: 0.3132 - acc: 0.8957 - val_loss: 1.0243 - val_acc: 0.5636\n",
    "# Epoch 5/10\n",
    "# 18154/18154 [==============================] - 282s - loss: 0.1995 - acc: 0.9416 - val_loss: 1.1634 - val_acc: 0.5587\n",
    "# Epoch 6/10\n",
    "# 18154/18154 [==============================] - 282s - loss: 0.1248 - acc: 0.9689 - val_loss: 1.3516 - val_acc: 0.5473\n",
    "# Epoch 7/10\n",
    "# 18154/18154 [==============================] - 276s - loss: 0.0783 - acc: 0.9841 - val_loss: 1.5016 - val_acc: 0.5532\n",
    "# Epoch 8/10\n",
    "# 18154/18154 [==============================] - 286s - loss: 0.0519 - acc: 0.9914 - val_loss: 1.6745 - val_acc: 0.5479\n",
    "# Epoch 9/10\n",
    "# 18154/18154 [==============================] - 282s - loss: 0.0368 - acc: 0.9942 - val_loss: 1.8291 - val_acc: 0.5503\n",
    "# Epoch 10/10\n",
    "# 18154/18154 [==============================] - 269s - loss: 0.0273 - acc: 0.9966 - val_loss: 1.9779 - val_acc: 0.5404\n",
    "\n",
    "#### 50, dropout=0.5, activation=tanh\n",
    "# Train on 18154 samples, validate on 4539 samples\n",
    "# Epoch 1/10\n",
    "# 18154/18154 [==============================] - 170s - loss: 0.8704 - acc: 0.5284 - val_loss: 0.7969 - val_acc: 0.5823\n",
    "# Epoch 2/10\n",
    "# 18154/18154 [==============================] - 176s - loss: 0.7100 - acc: 0.6707 - val_loss: 0.7826 - val_acc: 0.5843\n",
    "# Epoch 3/10\n",
    "# 18154/18154 [==============================] - 1323s - loss: 0.5521 - acc: 0.7797 - val_loss: 0.8181 - val_acc: 0.5887\n",
    "# Epoch 4/10\n",
    "# 18154/18154 [==============================] - 199s - loss: 0.3997 - acc: 0.8588 - val_loss: 0.9032 - val_acc: 0.5832\n",
    "# Epoch 5/10\n",
    "# 18154/18154 [==============================] - 167s - loss: 0.2768 - acc: 0.9164 - val_loss: 1.0110 - val_acc: 0.5693\n",
    "# Epoch 6/10\n",
    "# 18154/18154 [==============================] - 175s - loss: 0.1914 - acc: 0.9497 - val_loss: 1.1459 - val_acc: 0.5565\n",
    "# Epoch 7/10\n",
    "# 18154/18154 [==============================] - 184s - loss: 0.1333 - acc: 0.9689 - val_loss: 1.2758 - val_acc: 0.5523\n",
    "# Epoch 8/10\n",
    "# 18154/18154 [==============================] - 186s - loss: 0.0925 - acc: 0.9825 - val_loss: 1.4139 - val_acc: 0.5514\n",
    "# Epoch 9/10\n",
    "# 18154/18154 [==============================] - 195s - loss: 0.0667 - acc: 0.9874 - val_loss: 1.5601 - val_acc: 0.5517\n",
    "# Epoch 10/10\n",
    "# 18154/18154 [==============================] - 189s - loss: 0.0494 - acc: 0.9916 - val_loss: 1.7023 - val_acc: 0.5420\n",
    "\n",
    "#### 20, dropout=0.5, activation=tanh\n",
    "# Train on 18154 samples, validate on 4539 samples\n",
    "# Epoch 1/10\n",
    "# 18154/18154 [==============================] - 97s - loss: 0.8993 - acc: 0.5170 - val_loss: 0.8157 - val_acc: 0.5735\n",
    "# Epoch 2/10\n",
    "# 18154/18154 [==============================] - 104s - loss: 0.7660 - acc: 0.6342 - val_loss: 0.7859 - val_acc: 0.5774\n",
    "# Epoch 3/10\n",
    "# 18154/18154 [==============================] - 111s - loss: 0.6595 - acc: 0.7211 - val_loss: 0.7856 - val_acc: 0.5854\n",
    "# Epoch 4/10\n",
    "# 18154/18154 [==============================] - 112s - loss: 0.5442 - acc: 0.7960 - val_loss: 0.8068 - val_acc: 0.5891\n",
    "# Epoch 5/10\n",
    "# 18154/18154 [==============================] - 122s - loss: 0.4316 - acc: 0.8555 - val_loss: 0.8594 - val_acc: 0.5730\n",
    "# Epoch 6/10\n",
    "# 18154/18154 [==============================] - 104s - loss: 0.3372 - acc: 0.8943 - val_loss: 0.9247 - val_acc: 0.5675\n",
    "# Epoch 7/10\n",
    "# 18154/18154 [==============================] - 106s - loss: 0.2672 - acc: 0.9241 - val_loss: 1.0007 - val_acc: 0.5622\n",
    "# Epoch 8/10\n",
    "# 18154/18154 [==============================] - 124s - loss: 0.2066 - acc: 0.9472 - val_loss: 1.0883 - val_acc: 0.5638\n",
    "# Epoch 9/10\n",
    "# 18154/18154 [==============================] - 104s - loss: 0.1631 - acc: 0.9620 - val_loss: 1.1965 - val_acc: 0.5530\n",
    "# Epoch 10/10\n",
    "# 18154/18154 [==============================] - 113s - loss: 0.1285 - acc: 0.9712 - val_loss: 1.3006 - val_acc: 0.5481\n",
    "\n",
    "# ****\n",
    "\n",
    "#### 20, no-dropout, activation=tanh\n",
    "# Train on 18154 samples, validate on 4539 samples\n",
    "# Epoch 1/10\n",
    "# 18154/18154 [==============================] - 145s - loss: 0.8740 - acc: 0.5383 - val_loss: 0.8024 - val_acc: 0.5766\n",
    "# Epoch 2/10\n",
    "# 18154/18154 [==============================] - 126s - loss: 0.7012 - acc: 0.6813 - val_loss: 0.7820 - val_acc: 0.5891\n",
    "# Epoch 3/10\n",
    "# 18154/18154 [==============================] - 126s - loss: 0.5257 - acc: 0.8060 - val_loss: 0.8237 - val_acc: 0.5878\n",
    "# Epoch 4/10\n",
    "# 18154/18154 [==============================] - 121s - loss: 0.3598 - acc: 0.8910 - val_loss: 0.8976 - val_acc: 0.5730\n",
    "# Epoch 5/10\n",
    "# 18154/18154 [==============================] - 112s - loss: 0.2343 - acc: 0.9430 - val_loss: 1.0013 - val_acc: 0.5673\n",
    "# Epoch 6/10\n",
    "# 18154/18154 [==============================] - 133s - loss: 0.1497 - acc: 0.9734 - val_loss: 1.1235 - val_acc: 0.5603\n",
    "# Epoch 7/10\n",
    "# 18154/18154 [==============================] - 118s - loss: 0.0955 - acc: 0.9866 - val_loss: 1.2600 - val_acc: 0.5486\n",
    "# Epoch 8/10\n",
    "# 18154/18154 [==============================] - 116s - loss: 0.0617 - acc: 0.9932 - val_loss: 1.3732 - val_acc: 0.5525\n",
    "# Epoch 9/10\n",
    "# 18154/18154 [==============================] - 105s - loss: 0.0410 - acc: 0.9966 - val_loss: 1.5072 - val_acc: 0.5477\n",
    "# Epoch 10/10\n",
    "# 18154/18154 [==============================] - 129s - loss: 0.0283 - acc: 0.9972 - val_loss: 1.6362 - val_acc: 0.5473\n",
    "\n",
    "#### 50, no-dropout, activation=tanh\n",
    "# Train on 18154 samples, validate on 4539 samples\n",
    "# Epoch 1/10\n",
    "# 18154/18154 [==============================] - 180s - loss: 0.8484 - acc: 0.5505 - val_loss: 0.7902 - val_acc: 0.5829\n",
    "# Epoch 2/10\n",
    "# 18154/18154 [==============================] - 175s - loss: 0.6395 - acc: 0.7183 - val_loss: 0.8074 - val_acc: 0.5810\n",
    "# Epoch 3/10\n",
    "# 18154/18154 [==============================] - 193s - loss: 0.4044 - acc: 0.8588 - val_loss: 0.9246 - val_acc: 0.5583\n",
    "# Epoch 4/10\n",
    "# 18154/18154 [==============================] - 183s - loss: 0.2240 - acc: 0.9404 - val_loss: 1.0785 - val_acc: 0.5536\n",
    "# Epoch 5/10\n",
    "# 18154/18154 [==============================] - 193s - loss: 0.1199 - acc: 0.9758 - val_loss: 1.2773 - val_acc: 0.5532\n",
    "# Epoch 6/10\n",
    "# 18154/18154 [==============================] - 511s - loss: 0.0661 - acc: 0.9909 - val_loss: 1.4414 - val_acc: 0.5521\n",
    "# Epoch 7/10\n",
    "# 18154/18154 [==============================] - 253s - loss: 0.0378 - acc: 0.9960 - val_loss: 1.6020 - val_acc: 0.5503\n",
    "# Epoch 8/10\n",
    "# 18154/18154 [==============================] - 218s - loss: 0.0253 - acc: 0.9974 - val_loss: 1.7539 - val_acc: 0.5433\n",
    "# Epoch 9/10\n",
    "# 18154/18154 [==============================] - 210s - loss: 0.0183 - acc: 0.9979 - val_loss: 1.8972 - val_acc: 0.5446\n",
    "# Epoch 10/10\n",
    "# 18154/18154 [==============================] - 193s - loss: 0.0158 - acc: 0.9977 - val_loss: 2.0042 - val_acc: 0.5415\n",
    "\n",
    "#### 100, no-dropout, activation=tanh\n",
    "# Epoch 1/10\n",
    "# 18154/18154 [==============================] - 270s - loss: 0.8427 - acc: 0.5522 - val_loss: 0.7991 - val_acc: 0.5658\n",
    "# Epoch 2/10\n",
    "# 18154/18154 [==============================] - 285s - loss: 0.5918 - acc: 0.7453 - val_loss: 0.8429 - val_acc: 0.5779\n",
    "# Epoch 3/10\n",
    "# 18154/18154 [==============================] - 272s - loss: 0.3165 - acc: 0.8924 - val_loss: 1.0625 - val_acc: 0.5675\n",
    "# Epoch 4/10\n",
    "# 18154/18154 [==============================] - 295s - loss: 0.1465 - acc: 0.9626 - val_loss: 1.3102 - val_acc: 0.5525\n",
    "# Epoch 5/10\n",
    "# 18154/18154 [==============================] - 309s - loss: 0.0660 - acc: 0.9890 - val_loss: 1.5494 - val_acc: 0.5536\n",
    "# Epoch 6/10\n",
    "# 18154/18154 [==============================] - 312s - loss: 0.0349 - acc: 0.9960 - val_loss: 1.7732 - val_acc: 0.5466\n",
    "# Epoch 7/10\n",
    "# 18154/18154 [==============================] - 329s - loss: 0.0233 - acc: 0.9974 - val_loss: 1.8989 - val_acc: 0.5455\n",
    "# Epoch 8/10\n",
    "# 18154/18154 [==============================] - 347s - loss: 0.0187 - acc: 0.9975 - val_loss: 2.0793 - val_acc: 0.5420\n",
    "# Epoch 9/10\n",
    "# 18154/18154 [==============================] - 371s - loss: 0.0171 - acc: 0.9976 - val_loss: 2.2013 - val_acc: 0.5369\n",
    "# Epoch 10/10\n",
    "# 18154/18154 [==============================] - 366s - loss: 0.0176 - acc: 0.9976 - val_loss: 2.2483 - val_acc: 0.5435\n",
    "\n"
   ]
  }
 ],
 "metadata": {
  "kernelspec": {
   "display_name": "Python 3",
   "language": "python",
   "name": "python3"
  },
  "language_info": {
   "codemirror_mode": {
    "name": "ipython",
    "version": 3
   },
   "file_extension": ".py",
   "mimetype": "text/x-python",
   "name": "python",
   "nbconvert_exporter": "python",
   "pygments_lexer": "ipython3",
   "version": "3.6.1"
  }
 },
 "nbformat": 4,
 "nbformat_minor": 2
}
